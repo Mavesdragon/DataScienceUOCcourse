{
 "cells": [
  {
   "cell_type": "markdown",
   "metadata": {
    "colab_type": "text",
    "id": "e9J5Ddcv28uZ"
   },
   "source": [
    "\n",
    "\n",
    "# PEC2: Insights datos Idealista\n",
    "\n",
    "En esta PEC2, debéis hacer el mismo ejercicio que hemos hecho en el Notebook Insight_Datos_Teleco.ipynb pero con la información de Idealista que se os proporciona junto a este Notebook y el enunciado. El objetivo es, una vez limpiado el dataset, estudiarlo para extraer el máximo número de insights de los datos."
   ]
  },
  {
   "cell_type": "markdown",
   "metadata": {
    "colab_type": "text",
    "id": "QuM9Y0K528ud"
   },
   "source": [
    "\n",
    "\n",
    "## Cargar librerías"
   ]
  },
  {
   "cell_type": "code",
   "execution_count": 1,
   "metadata": {
    "colab": {},
    "colab_type": "code",
    "id": "gdji6CoD28uf"
   },
   "outputs": [],
   "source": [
    "%matplotlib inline\n",
    "\n",
    "import re\n",
    "import random\n",
    "from collections import Counter\n",
    "import os\n",
    "\n",
    "import pandas as pd\n",
    "pd.set_option('display.max_colwidth', -1)\n",
    "import numpy as np\n",
    "import matplotlib.pyplot as plt\n",
    "import seaborn as sns\n",
    "from scipy.stats import kstest\n",
    "sns.set(color_codes=True)\n"
   ]
  },
  {
   "cell_type": "markdown",
   "metadata": {
    "colab_type": "text",
    "id": "tqVscQBt28uk"
   },
   "source": [
    "\n",
    "\n",
    "## 1. Lectura y unificación de datos. Puede ser tanto de la descarga de Idealista si hiciesteis la PEC1 versión con Claves, o directamente los 8 ficheros CSV. (2 puntos)"
   ]
  },
  {
   "cell_type": "code",
   "execution_count": 2,
   "metadata": {},
   "outputs": [],
   "source": [
    "df_1 = pd.read_csv('BBDD_1.csv')\n",
    "df_2 = pd.read_csv('BBDD_2.csv')\n",
    "df_3 = pd.read_csv('BBDD_3.csv')\n",
    "df_4 = pd.read_csv('BBDD_4.csv')\n",
    "df_5 = pd.read_csv('BBDD_5.csv')\n",
    "df_6 = pd.read_csv('BBDD_6.csv')\n",
    "df_7 = pd.read_csv('BBDD_7.csv')\n",
    "df_8 = pd.read_csv('BBDD_8.csv')"
   ]
  },
  {
   "cell_type": "code",
   "execution_count": 3,
   "metadata": {},
   "outputs": [],
   "source": [
    "df = pd.concat([df_1, df_2, df_3, df_4, df_5, df_6, df_7, df_8], sort=False)\n"
   ]
  },
  {
   "cell_type": "markdown",
   "metadata": {
    "colab_type": "text",
    "id": "I69cvDGk28ur"
   },
   "source": [
    "\n",
    "\n",
    "### Comprobar lectura correcta del dataset"
   ]
  },
  {
   "cell_type": "code",
   "execution_count": 4,
   "metadata": {},
   "outputs": [
    {
     "data": {
      "text/html": [
       "<div>\n",
       "<style scoped>\n",
       "    .dataframe tbody tr th:only-of-type {\n",
       "        vertical-align: middle;\n",
       "    }\n",
       "\n",
       "    .dataframe tbody tr th {\n",
       "        vertical-align: top;\n",
       "    }\n",
       "\n",
       "    .dataframe thead th {\n",
       "        text-align: right;\n",
       "    }\n",
       "</style>\n",
       "<table border=\"1\" class=\"dataframe\">\n",
       "  <thead>\n",
       "    <tr style=\"text-align: right;\">\n",
       "      <th></th>\n",
       "      <th>Unnamed: 0</th>\n",
       "      <th>Unnamed: 0.1</th>\n",
       "      <th>index</th>\n",
       "      <th>propertyCode</th>\n",
       "      <th>thumbnail</th>\n",
       "      <th>externalReference</th>\n",
       "      <th>numPhotos</th>\n",
       "      <th>floor</th>\n",
       "      <th>price</th>\n",
       "      <th>propertyType</th>\n",
       "      <th>...</th>\n",
       "      <th>suggestedTexts</th>\n",
       "      <th>hasPlan</th>\n",
       "      <th>has3DTour</th>\n",
       "      <th>has360</th>\n",
       "      <th>hasStaging</th>\n",
       "      <th>superTopHighlight</th>\n",
       "      <th>topNewDevelopment</th>\n",
       "      <th>labels</th>\n",
       "      <th>parkingSpace</th>\n",
       "      <th>newDevelopmentFinished</th>\n",
       "    </tr>\n",
       "  </thead>\n",
       "  <tbody>\n",
       "    <tr>\n",
       "      <th>0</th>\n",
       "      <td>0.0</td>\n",
       "      <td>0.0</td>\n",
       "      <td>0.0</td>\n",
       "      <td>37423711</td>\n",
       "      <td>https://img3.idealista.com/blur/WEB_LISTING/0/id.pro.es.image.master/75/65/7d/1051146532.jpg</td>\n",
       "      <td>Z-2030</td>\n",
       "      <td>31.0</td>\n",
       "      <td>2</td>\n",
       "      <td>285000.0</td>\n",
       "      <td>flat</td>\n",
       "      <td>...</td>\n",
       "      <td>{'subtitle': 'El Gòtic, Barcelona', 'title': 'Piso'}</td>\n",
       "      <td>True</td>\n",
       "      <td>False</td>\n",
       "      <td>False</td>\n",
       "      <td>False</td>\n",
       "      <td>False</td>\n",
       "      <td>False</td>\n",
       "      <td>NaN</td>\n",
       "      <td>NaN</td>\n",
       "      <td>NaN</td>\n",
       "    </tr>\n",
       "    <tr>\n",
       "      <th>1</th>\n",
       "      <td>1.0</td>\n",
       "      <td>1.0</td>\n",
       "      <td>1.0</td>\n",
       "      <td>100030792</td>\n",
       "      <td>https://img3.idealista.com/blur/WEB_LISTING/0/id.pro.es.image.master/08/c0/ea/1065800123.jpg</td>\n",
       "      <td>2019</td>\n",
       "      <td>54.0</td>\n",
       "      <td>NaN</td>\n",
       "      <td>178216.0</td>\n",
       "      <td>flat</td>\n",
       "      <td>...</td>\n",
       "      <td>{'subtitle': 'El Guinardó, Barcelona', 'title': 'Piso en Calle del Xiprer'}</td>\n",
       "      <td>False</td>\n",
       "      <td>False</td>\n",
       "      <td>False</td>\n",
       "      <td>False</td>\n",
       "      <td>False</td>\n",
       "      <td>False</td>\n",
       "      <td>NaN</td>\n",
       "      <td>NaN</td>\n",
       "      <td>NaN</td>\n",
       "    </tr>\n",
       "    <tr>\n",
       "      <th>2</th>\n",
       "      <td>2.0</td>\n",
       "      <td>2.0</td>\n",
       "      <td>2.0</td>\n",
       "      <td>95563945</td>\n",
       "      <td>https://img3.idealista.com/blur/WEB_LISTING/0/id.pro.es.image.master/cf/05/33/921983717.jpg</td>\n",
       "      <td>52931158</td>\n",
       "      <td>13.0</td>\n",
       "      <td>NaN</td>\n",
       "      <td>333000.0</td>\n",
       "      <td>flat</td>\n",
       "      <td>...</td>\n",
       "      <td>{'subtitle': 'El Gòtic, Barcelona', 'title': 'Piso en Calle dels Còdols'}</td>\n",
       "      <td>False</td>\n",
       "      <td>False</td>\n",
       "      <td>True</td>\n",
       "      <td>False</td>\n",
       "      <td>False</td>\n",
       "      <td>False</td>\n",
       "      <td>NaN</td>\n",
       "      <td>NaN</td>\n",
       "      <td>NaN</td>\n",
       "    </tr>\n",
       "    <tr>\n",
       "      <th>3</th>\n",
       "      <td>3.0</td>\n",
       "      <td>3.0</td>\n",
       "      <td>3.0</td>\n",
       "      <td>96266051</td>\n",
       "      <td>https://img3.idealista.com/blur/WEB_LISTING/0/id.pro.es.image.master/dd/0e/ff/942136095.jpg</td>\n",
       "      <td>4113 ALIV</td>\n",
       "      <td>27.0</td>\n",
       "      <td>2</td>\n",
       "      <td>481000.0</td>\n",
       "      <td>flat</td>\n",
       "      <td>...</td>\n",
       "      <td>{'subtitle': \"La Dreta de l'Eixample, Barcelona\", 'title': 'Piso en Rambla de Catalunya'}</td>\n",
       "      <td>False</td>\n",
       "      <td>False</td>\n",
       "      <td>False</td>\n",
       "      <td>False</td>\n",
       "      <td>False</td>\n",
       "      <td>False</td>\n",
       "      <td>NaN</td>\n",
       "      <td>NaN</td>\n",
       "      <td>NaN</td>\n",
       "    </tr>\n",
       "    <tr>\n",
       "      <th>4</th>\n",
       "      <td>4.0</td>\n",
       "      <td>4.0</td>\n",
       "      <td>4.0</td>\n",
       "      <td>95845899</td>\n",
       "      <td>https://img3.idealista.com/blur/WEB_LISTING/0/id.pro.es.image.master/17/29/61/930553000.jpg</td>\n",
       "      <td>52457390</td>\n",
       "      <td>10.0</td>\n",
       "      <td>NaN</td>\n",
       "      <td>481000.0</td>\n",
       "      <td>flat</td>\n",
       "      <td>...</td>\n",
       "      <td>{'subtitle': \"La Dreta de l'Eixample, Barcelona\", 'title': 'Piso en Rambla de Catalunya'}</td>\n",
       "      <td>False</td>\n",
       "      <td>False</td>\n",
       "      <td>True</td>\n",
       "      <td>False</td>\n",
       "      <td>False</td>\n",
       "      <td>False</td>\n",
       "      <td>NaN</td>\n",
       "      <td>NaN</td>\n",
       "      <td>NaN</td>\n",
       "    </tr>\n",
       "  </tbody>\n",
       "</table>\n",
       "<p>5 rows × 43 columns</p>\n",
       "</div>"
      ],
      "text/plain": [
       "   Unnamed: 0  Unnamed: 0.1  index  propertyCode  \\\n",
       "0  0.0         0.0           0.0    37423711       \n",
       "1  1.0         1.0           1.0    100030792      \n",
       "2  2.0         2.0           2.0    95563945       \n",
       "3  3.0         3.0           3.0    96266051       \n",
       "4  4.0         4.0           4.0    95845899       \n",
       "\n",
       "                                                                                      thumbnail  \\\n",
       "0  https://img3.idealista.com/blur/WEB_LISTING/0/id.pro.es.image.master/75/65/7d/1051146532.jpg   \n",
       "1  https://img3.idealista.com/blur/WEB_LISTING/0/id.pro.es.image.master/08/c0/ea/1065800123.jpg   \n",
       "2  https://img3.idealista.com/blur/WEB_LISTING/0/id.pro.es.image.master/cf/05/33/921983717.jpg    \n",
       "3  https://img3.idealista.com/blur/WEB_LISTING/0/id.pro.es.image.master/dd/0e/ff/942136095.jpg    \n",
       "4  https://img3.idealista.com/blur/WEB_LISTING/0/id.pro.es.image.master/17/29/61/930553000.jpg    \n",
       "\n",
       "  externalReference  numPhotos floor     price propertyType  ...  \\\n",
       "0  Z-2030            31.0       2     285000.0  flat         ...   \n",
       "1  2019              54.0       NaN   178216.0  flat         ...   \n",
       "2  52931158          13.0       NaN   333000.0  flat         ...   \n",
       "3  4113 ALIV         27.0       2     481000.0  flat         ...   \n",
       "4  52457390          10.0       NaN   481000.0  flat         ...   \n",
       "\n",
       "                                                                              suggestedTexts  \\\n",
       "0  {'subtitle': 'El Gòtic, Barcelona', 'title': 'Piso'}                                        \n",
       "1  {'subtitle': 'El Guinardó, Barcelona', 'title': 'Piso en Calle del Xiprer'}                 \n",
       "2  {'subtitle': 'El Gòtic, Barcelona', 'title': 'Piso en Calle dels Còdols'}                   \n",
       "3  {'subtitle': \"La Dreta de l'Eixample, Barcelona\", 'title': 'Piso en Rambla de Catalunya'}   \n",
       "4  {'subtitle': \"La Dreta de l'Eixample, Barcelona\", 'title': 'Piso en Rambla de Catalunya'}   \n",
       "\n",
       "   hasPlan  has3DTour  has360  hasStaging superTopHighlight topNewDevelopment  \\\n",
       "0  True     False      False   False       False             False              \n",
       "1  False    False      False   False       False             False              \n",
       "2  False    False      True    False       False             False              \n",
       "3  False    False      False   False       False             False              \n",
       "4  False    False      True    False       False             False              \n",
       "\n",
       "  labels parkingSpace newDevelopmentFinished  \n",
       "0  NaN    NaN          NaN                    \n",
       "1  NaN    NaN          NaN                    \n",
       "2  NaN    NaN          NaN                    \n",
       "3  NaN    NaN          NaN                    \n",
       "4  NaN    NaN          NaN                    \n",
       "\n",
       "[5 rows x 43 columns]"
      ]
     },
     "execution_count": 4,
     "metadata": {},
     "output_type": "execute_result"
    }
   ],
   "source": [
    "df.head()\n"
   ]
  },
  {
   "cell_type": "markdown",
   "metadata": {
    "colab_type": "text",
    "id": "2jB2SVL028us"
   },
   "source": [
    "\n",
    "\n",
    "### Comprobar dimensiones del dataset"
   ]
  },
  {
   "cell_type": "code",
   "execution_count": 5,
   "metadata": {},
   "outputs": [
    {
     "name": "stdout",
     "output_type": "stream",
     "text": [
      "<class 'pandas.core.frame.DataFrame'>\n",
      "Int64Index: 21186 entries, 0 to 2113\n",
      "Data columns (total 43 columns):\n",
      "Unnamed: 0                17806 non-null float64\n",
      "Unnamed: 0.1              5614 non-null float64\n",
      "index                     12962 non-null float64\n",
      "propertyCode              21186 non-null int64\n",
      "thumbnail                 21067 non-null object\n",
      "externalReference         18796 non-null object\n",
      "numPhotos                 21186 non-null float64\n",
      "floor                     15890 non-null object\n",
      "price                     21186 non-null float64\n",
      "propertyType              21186 non-null object\n",
      "operation                 21186 non-null object\n",
      "size                      21186 non-null float64\n",
      "exterior                  21186 non-null bool\n",
      "rooms                     21186 non-null float64\n",
      "bathrooms                 21186 non-null float64\n",
      "address                   21186 non-null object\n",
      "province                  21118 non-null object\n",
      "municipality              21186 non-null object\n",
      "district                  17185 non-null object\n",
      "country                   21118 non-null object\n",
      "neighborhood              13971 non-null object\n",
      "latitude                  21118 non-null float64\n",
      "longitude                 21118 non-null float64\n",
      "showAddress               21118 non-null object\n",
      "url                       21186 non-null object\n",
      "distance                  21186 non-null int64\n",
      "description               21130 non-null object\n",
      "hasVideo                  21186 non-null bool\n",
      "status                    21184 non-null object\n",
      "newDevelopment            21118 non-null object\n",
      "hasLift                   16671 non-null object\n",
      "priceByArea               21186 non-null float64\n",
      "detailedType              21118 non-null object\n",
      "suggestedTexts            21118 non-null object\n",
      "hasPlan                   21186 non-null bool\n",
      "has3DTour                 21118 non-null object\n",
      "has360                    21118 non-null object\n",
      "hasStaging                21118 non-null object\n",
      "superTopHighlight         21118 non-null object\n",
      "topNewDevelopment         21118 non-null object\n",
      "labels                    849 non-null object\n",
      "parkingSpace              5634 non-null object\n",
      "newDevelopmentFinished    397 non-null object\n",
      "dtypes: bool(3), float64(11), int64(2), object(27)\n",
      "memory usage: 6.7+ MB\n"
     ]
    }
   ],
   "source": [
    "df.info()"
   ]
  },
  {
   "cell_type": "markdown",
   "metadata": {
    "colab_type": "text",
    "id": "4IC_htfU28uw"
   },
   "source": [
    "\n",
    "\n",
    "## 2. Data Wrangling (4 puntos)"
   ]
  },
  {
   "cell_type": "markdown",
   "metadata": {
    "colab_type": "text",
    "id": "O5r5WxL728uy"
   },
   "source": [
    "\n",
    "\n",
    "### Formateo de las variables (strings, numéricas y booleanas)"
   ]
  },
  {
   "cell_type": "code",
   "execution_count": 6,
   "metadata": {},
   "outputs": [],
   "source": [
    "Types= ['float', 'float', 'float', 'str', 'str',\n",
    "       'str', 'float', 'str', 'float',\n",
    "       'str', 'str', 'float', 'bool',\n",
    "       'float', 'float', 'str', 'str',\n",
    "       'str', 'str', 'str', 'str', 'float', 'float', 'str', \n",
    "       'str', 'int', 'str', 'bool', 'str', 'str', 'str',\n",
    "      'float', 'str', 'str', 'bool','str', 'str', 'str','str', \n",
    "       'str', 'str','str', 'str', 'str',]\n",
    "dict_types = dict(zip(df.columns,Types))"
   ]
  },
  {
   "cell_type": "code",
   "execution_count": 7,
   "metadata": {},
   "outputs": [],
   "source": [
    "df=df.astype(dict_types)"
   ]
  },
  {
   "cell_type": "markdown",
   "metadata": {
    "colab_type": "text",
    "id": "-cnYIEYN28u0"
   },
   "source": [
    "\n",
    "\n",
    "### Comprobación y eliminación de registros repetidos"
   ]
  },
  {
   "cell_type": "code",
   "execution_count": 8,
   "metadata": {},
   "outputs": [
    {
     "data": {
      "text/plain": [
       "False    13091\n",
       "True     8095 \n",
       "dtype: int64"
      ]
     },
     "execution_count": 8,
     "metadata": {},
     "output_type": "execute_result"
    }
   ],
   "source": [
    "duplicated = df.duplicated ('propertyCode')\n",
    "duplicated.value_counts()"
   ]
  },
  {
   "cell_type": "code",
   "execution_count": 9,
   "metadata": {},
   "outputs": [],
   "source": [
    "df=df.drop_duplicates('propertyCode')"
   ]
  },
  {
   "cell_type": "code",
   "execution_count": 10,
   "metadata": {},
   "outputs": [
    {
     "data": {
      "text/plain": [
       "False    13091\n",
       "dtype: int64"
      ]
     },
     "execution_count": 10,
     "metadata": {},
     "output_type": "execute_result"
    }
   ],
   "source": [
    "duplicados=df.duplicated('propertyCode')\n",
    "duplicados.value_counts()"
   ]
  },
  {
   "cell_type": "markdown",
   "metadata": {
    "colab_type": "text",
    "id": "diPno4wp28u2"
   },
   "source": [
    "\n",
    "\n",
    "### Comprobación de columnas que no aportan información"
   ]
  },
  {
   "cell_type": "code",
   "execution_count": 11,
   "metadata": {},
   "outputs": [
    {
     "data": {
      "text/html": [
       "<div>\n",
       "<style scoped>\n",
       "    .dataframe tbody tr th:only-of-type {\n",
       "        vertical-align: middle;\n",
       "    }\n",
       "\n",
       "    .dataframe tbody tr th {\n",
       "        vertical-align: top;\n",
       "    }\n",
       "\n",
       "    .dataframe thead th {\n",
       "        text-align: right;\n",
       "    }\n",
       "</style>\n",
       "<table border=\"1\" class=\"dataframe\">\n",
       "  <thead>\n",
       "    <tr style=\"text-align: right;\">\n",
       "      <th></th>\n",
       "      <th>index</th>\n",
       "      <th>propertyCode</th>\n",
       "      <th>thumbnail</th>\n",
       "      <th>externalReference</th>\n",
       "      <th>numPhotos</th>\n",
       "      <th>floor</th>\n",
       "      <th>price</th>\n",
       "      <th>propertyType</th>\n",
       "      <th>operation</th>\n",
       "      <th>size</th>\n",
       "      <th>...</th>\n",
       "      <th>suggestedTexts</th>\n",
       "      <th>hasPlan</th>\n",
       "      <th>has3DTour</th>\n",
       "      <th>has360</th>\n",
       "      <th>hasStaging</th>\n",
       "      <th>superTopHighlight</th>\n",
       "      <th>topNewDevelopment</th>\n",
       "      <th>labels</th>\n",
       "      <th>parkingSpace</th>\n",
       "      <th>newDevelopmentFinished</th>\n",
       "    </tr>\n",
       "  </thead>\n",
       "  <tbody>\n",
       "    <tr>\n",
       "      <th>0</th>\n",
       "      <td>0.0</td>\n",
       "      <td>37423711</td>\n",
       "      <td>https://img3.idealista.com/blur/WEB_LISTING/0/id.pro.es.image.master/75/65/7d/1051146532.jpg</td>\n",
       "      <td>Z-2030</td>\n",
       "      <td>31.0</td>\n",
       "      <td>2</td>\n",
       "      <td>285000.0</td>\n",
       "      <td>flat</td>\n",
       "      <td>sale</td>\n",
       "      <td>63.0</td>\n",
       "      <td>...</td>\n",
       "      <td>{'subtitle': 'El Gòtic, Barcelona', 'title': 'Piso'}</td>\n",
       "      <td>True</td>\n",
       "      <td>False</td>\n",
       "      <td>False</td>\n",
       "      <td>False</td>\n",
       "      <td>False</td>\n",
       "      <td>False</td>\n",
       "      <td>nan</td>\n",
       "      <td>nan</td>\n",
       "      <td>nan</td>\n",
       "    </tr>\n",
       "    <tr>\n",
       "      <th>1</th>\n",
       "      <td>1.0</td>\n",
       "      <td>100030792</td>\n",
       "      <td>https://img3.idealista.com/blur/WEB_LISTING/0/id.pro.es.image.master/08/c0/ea/1065800123.jpg</td>\n",
       "      <td>2019</td>\n",
       "      <td>54.0</td>\n",
       "      <td>nan</td>\n",
       "      <td>178216.0</td>\n",
       "      <td>flat</td>\n",
       "      <td>sale</td>\n",
       "      <td>65.0</td>\n",
       "      <td>...</td>\n",
       "      <td>{'subtitle': 'El Guinardó, Barcelona', 'title': 'Piso en Calle del Xiprer'}</td>\n",
       "      <td>False</td>\n",
       "      <td>False</td>\n",
       "      <td>False</td>\n",
       "      <td>False</td>\n",
       "      <td>False</td>\n",
       "      <td>False</td>\n",
       "      <td>nan</td>\n",
       "      <td>nan</td>\n",
       "      <td>nan</td>\n",
       "    </tr>\n",
       "    <tr>\n",
       "      <th>2</th>\n",
       "      <td>2.0</td>\n",
       "      <td>95563945</td>\n",
       "      <td>https://img3.idealista.com/blur/WEB_LISTING/0/id.pro.es.image.master/cf/05/33/921983717.jpg</td>\n",
       "      <td>52931158</td>\n",
       "      <td>13.0</td>\n",
       "      <td>nan</td>\n",
       "      <td>333000.0</td>\n",
       "      <td>flat</td>\n",
       "      <td>sale</td>\n",
       "      <td>97.0</td>\n",
       "      <td>...</td>\n",
       "      <td>{'subtitle': 'El Gòtic, Barcelona', 'title': 'Piso en Calle dels Còdols'}</td>\n",
       "      <td>False</td>\n",
       "      <td>False</td>\n",
       "      <td>True</td>\n",
       "      <td>False</td>\n",
       "      <td>False</td>\n",
       "      <td>False</td>\n",
       "      <td>nan</td>\n",
       "      <td>nan</td>\n",
       "      <td>nan</td>\n",
       "    </tr>\n",
       "    <tr>\n",
       "      <th>3</th>\n",
       "      <td>3.0</td>\n",
       "      <td>96266051</td>\n",
       "      <td>https://img3.idealista.com/blur/WEB_LISTING/0/id.pro.es.image.master/dd/0e/ff/942136095.jpg</td>\n",
       "      <td>4113 ALIV</td>\n",
       "      <td>27.0</td>\n",
       "      <td>2</td>\n",
       "      <td>481000.0</td>\n",
       "      <td>flat</td>\n",
       "      <td>sale</td>\n",
       "      <td>65.0</td>\n",
       "      <td>...</td>\n",
       "      <td>{'subtitle': \"La Dreta de l'Eixample, Barcelona\", 'title': 'Piso en Rambla de Catalunya'}</td>\n",
       "      <td>False</td>\n",
       "      <td>False</td>\n",
       "      <td>False</td>\n",
       "      <td>False</td>\n",
       "      <td>False</td>\n",
       "      <td>False</td>\n",
       "      <td>nan</td>\n",
       "      <td>nan</td>\n",
       "      <td>nan</td>\n",
       "    </tr>\n",
       "    <tr>\n",
       "      <th>4</th>\n",
       "      <td>4.0</td>\n",
       "      <td>95845899</td>\n",
       "      <td>https://img3.idealista.com/blur/WEB_LISTING/0/id.pro.es.image.master/17/29/61/930553000.jpg</td>\n",
       "      <td>52457390</td>\n",
       "      <td>10.0</td>\n",
       "      <td>nan</td>\n",
       "      <td>481000.0</td>\n",
       "      <td>flat</td>\n",
       "      <td>sale</td>\n",
       "      <td>72.0</td>\n",
       "      <td>...</td>\n",
       "      <td>{'subtitle': \"La Dreta de l'Eixample, Barcelona\", 'title': 'Piso en Rambla de Catalunya'}</td>\n",
       "      <td>False</td>\n",
       "      <td>False</td>\n",
       "      <td>True</td>\n",
       "      <td>False</td>\n",
       "      <td>False</td>\n",
       "      <td>False</td>\n",
       "      <td>nan</td>\n",
       "      <td>nan</td>\n",
       "      <td>nan</td>\n",
       "    </tr>\n",
       "  </tbody>\n",
       "</table>\n",
       "<p>5 rows × 41 columns</p>\n",
       "</div>"
      ],
      "text/plain": [
       "   index propertyCode  \\\n",
       "0  0.0    37423711      \n",
       "1  1.0    100030792     \n",
       "2  2.0    95563945      \n",
       "3  3.0    96266051      \n",
       "4  4.0    95845899      \n",
       "\n",
       "                                                                                      thumbnail  \\\n",
       "0  https://img3.idealista.com/blur/WEB_LISTING/0/id.pro.es.image.master/75/65/7d/1051146532.jpg   \n",
       "1  https://img3.idealista.com/blur/WEB_LISTING/0/id.pro.es.image.master/08/c0/ea/1065800123.jpg   \n",
       "2  https://img3.idealista.com/blur/WEB_LISTING/0/id.pro.es.image.master/cf/05/33/921983717.jpg    \n",
       "3  https://img3.idealista.com/blur/WEB_LISTING/0/id.pro.es.image.master/dd/0e/ff/942136095.jpg    \n",
       "4  https://img3.idealista.com/blur/WEB_LISTING/0/id.pro.es.image.master/17/29/61/930553000.jpg    \n",
       "\n",
       "  externalReference  numPhotos floor     price propertyType operation  size  \\\n",
       "0  Z-2030            31.0       2     285000.0  flat         sale      63.0   \n",
       "1  2019              54.0       nan   178216.0  flat         sale      65.0   \n",
       "2  52931158          13.0       nan   333000.0  flat         sale      97.0   \n",
       "3  4113 ALIV         27.0       2     481000.0  flat         sale      65.0   \n",
       "4  52457390          10.0       nan   481000.0  flat         sale      72.0   \n",
       "\n",
       "   ...  \\\n",
       "0  ...   \n",
       "1  ...   \n",
       "2  ...   \n",
       "3  ...   \n",
       "4  ...   \n",
       "\n",
       "                                                                              suggestedTexts  \\\n",
       "0  {'subtitle': 'El Gòtic, Barcelona', 'title': 'Piso'}                                        \n",
       "1  {'subtitle': 'El Guinardó, Barcelona', 'title': 'Piso en Calle del Xiprer'}                 \n",
       "2  {'subtitle': 'El Gòtic, Barcelona', 'title': 'Piso en Calle dels Còdols'}                   \n",
       "3  {'subtitle': \"La Dreta de l'Eixample, Barcelona\", 'title': 'Piso en Rambla de Catalunya'}   \n",
       "4  {'subtitle': \"La Dreta de l'Eixample, Barcelona\", 'title': 'Piso en Rambla de Catalunya'}   \n",
       "\n",
       "   hasPlan  has3DTour has360 hasStaging superTopHighlight topNewDevelopment  \\\n",
       "0  True     False      False  False      False             False              \n",
       "1  False    False      False  False      False             False              \n",
       "2  False    False      True   False      False             False              \n",
       "3  False    False      False  False      False             False              \n",
       "4  False    False      True   False      False             False              \n",
       "\n",
       "  labels parkingSpace  newDevelopmentFinished  \n",
       "0  nan    nan          nan                     \n",
       "1  nan    nan          nan                     \n",
       "2  nan    nan          nan                     \n",
       "3  nan    nan          nan                     \n",
       "4  nan    nan          nan                     \n",
       "\n",
       "[5 rows x 41 columns]"
      ]
     },
     "execution_count": 11,
     "metadata": {},
     "output_type": "execute_result"
    }
   ],
   "source": [
    "df = df.drop('Unnamed: 0', axis=1)\n",
    "df = df.drop('Unnamed: 0.1', axis=1)\n",
    "df.head()\n"
   ]
  },
  {
   "cell_type": "markdown",
   "metadata": {
    "colab_type": "text",
    "id": "Uvj0SIh828u4"
   },
   "source": [
    "\n",
    "\n",
    "### Estudio de la varianza para las variables numéricas"
   ]
  },
  {
   "cell_type": "code",
   "execution_count": 12,
   "metadata": {},
   "outputs": [
    {
     "data": {
      "text/html": [
       "<div>\n",
       "<style scoped>\n",
       "    .dataframe tbody tr th:only-of-type {\n",
       "        vertical-align: middle;\n",
       "    }\n",
       "\n",
       "    .dataframe tbody tr th {\n",
       "        vertical-align: top;\n",
       "    }\n",
       "\n",
       "    .dataframe thead th {\n",
       "        text-align: right;\n",
       "    }\n",
       "</style>\n",
       "<table border=\"1\" class=\"dataframe\">\n",
       "  <thead>\n",
       "    <tr style=\"text-align: right;\">\n",
       "      <th></th>\n",
       "      <th>index</th>\n",
       "      <th>numPhotos</th>\n",
       "      <th>price</th>\n",
       "      <th>size</th>\n",
       "      <th>rooms</th>\n",
       "      <th>bathrooms</th>\n",
       "      <th>latitude</th>\n",
       "      <th>longitude</th>\n",
       "      <th>distance</th>\n",
       "      <th>priceByArea</th>\n",
       "    </tr>\n",
       "  </thead>\n",
       "  <tbody>\n",
       "    <tr>\n",
       "      <th>0</th>\n",
       "      <td>0.0</td>\n",
       "      <td>31.0</td>\n",
       "      <td>285000.0</td>\n",
       "      <td>63.0</td>\n",
       "      <td>2.0</td>\n",
       "      <td>2.0</td>\n",
       "      <td>41.380216</td>\n",
       "      <td>2.179157</td>\n",
       "      <td>1070</td>\n",
       "      <td>4524.0</td>\n",
       "    </tr>\n",
       "    <tr>\n",
       "      <th>1</th>\n",
       "      <td>1.0</td>\n",
       "      <td>54.0</td>\n",
       "      <td>178216.0</td>\n",
       "      <td>65.0</td>\n",
       "      <td>2.0</td>\n",
       "      <td>1.0</td>\n",
       "      <td>41.417458</td>\n",
       "      <td>2.177885</td>\n",
       "      <td>3449</td>\n",
       "      <td>2742.0</td>\n",
       "    </tr>\n",
       "    <tr>\n",
       "      <th>2</th>\n",
       "      <td>2.0</td>\n",
       "      <td>13.0</td>\n",
       "      <td>333000.0</td>\n",
       "      <td>97.0</td>\n",
       "      <td>4.0</td>\n",
       "      <td>1.0</td>\n",
       "      <td>41.379991</td>\n",
       "      <td>2.179267</td>\n",
       "      <td>1094</td>\n",
       "      <td>3433.0</td>\n",
       "    </tr>\n",
       "    <tr>\n",
       "      <th>3</th>\n",
       "      <td>3.0</td>\n",
       "      <td>27.0</td>\n",
       "      <td>481000.0</td>\n",
       "      <td>65.0</td>\n",
       "      <td>2.0</td>\n",
       "      <td>1.0</td>\n",
       "      <td>41.396123</td>\n",
       "      <td>2.158679</td>\n",
       "      <td>1388</td>\n",
       "      <td>7400.0</td>\n",
       "    </tr>\n",
       "    <tr>\n",
       "      <th>4</th>\n",
       "      <td>4.0</td>\n",
       "      <td>10.0</td>\n",
       "      <td>481000.0</td>\n",
       "      <td>72.0</td>\n",
       "      <td>2.0</td>\n",
       "      <td>1.0</td>\n",
       "      <td>41.392210</td>\n",
       "      <td>2.160275</td>\n",
       "      <td>1000</td>\n",
       "      <td>6681.0</td>\n",
       "    </tr>\n",
       "  </tbody>\n",
       "</table>\n",
       "</div>"
      ],
      "text/plain": [
       "   index  numPhotos     price  size  rooms  bathrooms   latitude  longitude  \\\n",
       "0  0.0    31.0       285000.0  63.0  2.0    2.0        41.380216  2.179157    \n",
       "1  1.0    54.0       178216.0  65.0  2.0    1.0        41.417458  2.177885    \n",
       "2  2.0    13.0       333000.0  97.0  4.0    1.0        41.379991  2.179267    \n",
       "3  3.0    27.0       481000.0  65.0  2.0    1.0        41.396123  2.158679    \n",
       "4  4.0    10.0       481000.0  72.0  2.0    1.0        41.392210  2.160275    \n",
       "\n",
       "   distance  priceByArea  \n",
       "0  1070      4524.0       \n",
       "1  3449      2742.0       \n",
       "2  1094      3433.0       \n",
       "3  1388      7400.0       \n",
       "4  1000      6681.0       "
      ]
     },
     "execution_count": 12,
     "metadata": {},
     "output_type": "execute_result"
    }
   ],
   "source": [
    "df_numerical = df.select_dtypes(include = ['int','float'])\n",
    "df_numerical.head()"
   ]
  },
  {
   "cell_type": "code",
   "execution_count": 13,
   "metadata": {},
   "outputs": [
    {
     "name": "stdout",
     "output_type": "stream",
     "text": [
      "[7309.701188266187, 216.73463279521985, 91913626434.80443, 428265.9800553044, 1.956297945876753, 0.9882048204731174, 5.026462375317895, 9.057505445585445, 117087996.69644207, 3253509.9085174655]\n"
     ]
    }
   ],
   "source": [
    "variance = df_numerical.var(axis=0)\n",
    "threshold=0.025\n",
    "varianzas = [elemento for elemento in variance if elemento>threshold]\n",
    "print(varianzas)"
   ]
  },
  {
   "cell_type": "markdown",
   "metadata": {
    "colab_type": "text",
    "id": "alUWPm9U28u5"
   },
   "source": [
    "\n",
    "\n",
    "### Estudio de agrupaciones para las variables categóricas"
   ]
  },
  {
   "cell_type": "code",
   "execution_count": 14,
   "metadata": {},
   "outputs": [
    {
     "data": {
      "image/png": "[encoded data removed]",
      "text/plain": [
       "<Figure size 432x288 with 1 Axes>"
      ]
     },
     "metadata": {
      "needs_background": "light"
     },
     "output_type": "display_data"
    },
    {
     "data": {
      "image/png": "[encoded data removed]",
      "text/plain": [
       "<Figure size 432x288 with 1 Axes>"
      ]
     },
     "metadata": {
      "needs_background": "light"
     },
     "output_type": "display_data"
    },
    {
     "data": {
      "image/png": "[encoded data removed]",
      "text/plain": [
       "<Figure size 432x288 with 1 Axes>"
      ]
     },
     "metadata": {
      "needs_background": "light"
     },
     "output_type": "display_data"
    }
   ],
   "source": [
    "df_categorical = df.select_dtypes(include = 'O')\n",
    "df_categorical_estudio = df_categorical[['floor', 'propertyType', 'province']]\n",
    "for element in df_categorical_estudio.columns:\n",
    "        my_table = pd.crosstab(index = df_categorical[element], columns=\"count\")\n",
    "        my_table.plot.bar()\n"
   ]
  },
  {
   "cell_type": "markdown",
   "metadata": {
    "colab_type": "text",
    "id": "9CR1uOna28u6"
   },
   "source": [
    "\n",
    "\n",
    "### Comprobación y eliminación de nulos"
   ]
  },
  {
   "cell_type": "code",
   "execution_count": 15,
   "metadata": {},
   "outputs": [
    {
     "data": {
      "text/plain": [
       "index                     True \n",
       "propertyCode              False\n",
       "thumbnail                 False\n",
       "externalReference         False\n",
       "numPhotos                 False\n",
       "floor                     False\n",
       "price                     False\n",
       "propertyType              False\n",
       "operation                 False\n",
       "size                      False\n",
       "exterior                  False\n",
       "rooms                     False\n",
       "bathrooms                 False\n",
       "address                   False\n",
       "province                  False\n",
       "municipality              False\n",
       "district                  False\n",
       "country                   False\n",
       "neighborhood              False\n",
       "latitude                  True \n",
       "longitude                 True \n",
       "showAddress               False\n",
       "url                       False\n",
       "distance                  False\n",
       "description               False\n",
       "hasVideo                  False\n",
       "status                    False\n",
       "newDevelopment            False\n",
       "hasLift                   False\n",
       "priceByArea               False\n",
       "detailedType              False\n",
       "suggestedTexts            False\n",
       "hasPlan                   False\n",
       "has3DTour                 False\n",
       "has360                    False\n",
       "hasStaging                False\n",
       "superTopHighlight         False\n",
       "topNewDevelopment         False\n",
       "labels                    False\n",
       "parkingSpace              False\n",
       "newDevelopmentFinished    False\n",
       "dtype: bool"
      ]
     },
     "execution_count": 15,
     "metadata": {},
     "output_type": "execute_result"
    }
   ],
   "source": [
    "df.isnull().any()"
   ]
  },
  {
   "cell_type": "code",
   "execution_count": 16,
   "metadata": {},
   "outputs": [
    {
     "data": {
      "text/plain": [
       "[]"
      ]
     },
     "execution_count": 16,
     "metadata": {},
     "output_type": "execute_result"
    }
   ],
   "source": [
    "lista_viviendas_nulas=[]\n",
    "for i, row in df.iterrows():\n",
    "    if np.isnan(row['price']):\n",
    "        lista_viviendas_nulas.append(row['propertyCode'])\n",
    "\n",
    "lista_viviendas_nulas"
   ]
  },
  {
   "cell_type": "markdown",
   "metadata": {
    "colab_type": "text",
    "id": "fUEE9f_J28u8"
   },
   "source": [
    "\n",
    "\n",
    "### Comprobación y eliminación de outliers"
   ]
  },
  {
   "cell_type": "code",
   "execution_count": 17,
   "metadata": {},
   "outputs": [
    {
     "data": {
      "image/png": "[encoded data removed]",
      "text/plain": [
       "<Figure size 432x288 with 1 Axes>"
      ]
     },
     "metadata": {
      "needs_background": "light"
     },
     "output_type": "display_data"
    },
    {
     "data": {
      "image/png": "[encoded data removed]",
      "text/plain": [
       "<Figure size 432x288 with 1 Axes>"
      ]
     },
     "metadata": {
      "needs_background": "light"
     },
     "output_type": "display_data"
    },
    {
     "data": {
      "image/png": "[encoded data removed]",
      "text/plain": [
       "<Figure size 432x288 with 1 Axes>"
      ]
     },
     "metadata": {
      "needs_background": "light"
     },
     "output_type": "display_data"
    },
    {
     "data": {
      "image/png": "[encoded data removed]",
      "text/plain": [
       "<Figure size 432x288 with 1 Axes>"
      ]
     },
     "metadata": {
      "needs_background": "light"
     },
     "output_type": "display_data"
    },
    {
     "data": {
      "image/png": "[encoded data removed]",
      "text/plain": [
       "<Figure size 432x288 with 1 Axes>"
      ]
     },
     "metadata": {
      "needs_background": "light"
     },
     "output_type": "display_data"
    },
    {
     "data": {
      "image/png": "[encoded data removed]",
      "text/plain": [
       "<Figure size 432x288 with 1 Axes>"
      ]
     },
     "metadata": {
      "needs_background": "light"
     },
     "output_type": "display_data"
    },
    {
     "data": {
      "image/png": "[encoded data removed]",
      "text/plain": [
       "<Figure size 432x288 with 1 Axes>"
      ]
     },
     "metadata": {
      "needs_background": "light"
     },
     "output_type": "display_data"
    },
    {
     "data": {
      "image/png": "[encoded data removed]",
      "text/plain": [
       "<Figure size 432x288 with 1 Axes>"
      ]
     },
     "metadata": {
      "needs_background": "light"
     },
     "output_type": "display_data"
    },
    {
     "data": {
      "image/png": "[encoded data removed]",
      "text/plain": [
       "<Figure size 432x288 with 1 Axes>"
      ]
     },
     "metadata": {
      "needs_background": "light"
     },
     "output_type": "display_data"
    }
   ],
   "source": [
    "for element in df_numerical.columns:\n",
    "    if element!= ('rooms'and 'index'):\n",
    "        df.hist(element,bins=60)"
   ]
  },
  {
   "cell_type": "code",
   "execution_count": 18,
   "metadata": {},
   "outputs": [],
   "source": [
    "def tukey_outliers(df,column,extreme=False):\n",
    "    q1, q3 = np.percentile(df[column],[25,75])\n",
    "    iqr = q3 - q1\n",
    "    constant = 1.5 if not extreme else 3\n",
    "    return df[((df[column]>(q3+constant*iqr)) | (df[column]<(q1-constant*iqr)))]"
   ]
  },
  {
   "cell_type": "code",
   "execution_count": 19,
   "metadata": {},
   "outputs": [
    {
     "name": "stdout",
     "output_type": "stream",
     "text": [
      "El número de Outliers de la variable numPhotos es: 382\n",
      "El número de Outliers de la variable price es: 1042\n",
      "El número de Outliers de la variable latitude es: 0\n",
      "El número de Outliers de la variable longitude es: 0\n",
      "El número de Outliers de la variable distance es: 1136\n",
      "El número de Outliers de la variable priceByArea es: 296\n"
     ]
    }
   ],
   "source": [
    "df_tukey_NP = tukey_outliers(df,'numPhotos',extreme=False)\n",
    "df_tukey_P = tukey_outliers(df,'price',extreme=False)\n",
    "df_tukey_LA = tukey_outliers(df,'latitude',extreme=False)\n",
    "df_tukey_LO = tukey_outliers(df,'longitude',extreme=False)\n",
    "df_tukey_D = tukey_outliers(df,'distance',extreme=False)\n",
    "df_tukey_PBA = tukey_outliers(df,'priceByArea',extreme=False)\n",
    "print(\"El número de Outliers de la variable numPhotos es:\",df_tukey_NP.shape[0])\n",
    "print(\"El número de Outliers de la variable price es:\",df_tukey_P.shape[0])\n",
    "print(\"El número de Outliers de la variable latitude es:\",df_tukey_LA.shape[0])\n",
    "print(\"El número de Outliers de la variable longitude es:\",df_tukey_LO.shape[0])\n",
    "print(\"El número de Outliers de la variable distance es:\",df_tukey_D.shape[0])\n",
    "print(\"El número de Outliers de la variable priceByArea es:\",df_tukey_PBA.shape[0])"
   ]
  },
  {
   "cell_type": "code",
   "execution_count": 20,
   "metadata": {},
   "outputs": [],
   "source": [
    "merged = pd.concat([df, df_tukey_NP, df_tukey_P, df_tukey_LA, df_tukey_LO, df_tukey_D, df_tukey_PBA])\n",
    "merged.drop_duplicates (keep=False, inplace=True)\n",
    "df = merged"
   ]
  },
  {
   "cell_type": "markdown",
   "metadata": {
    "colab_type": "text",
    "id": "eFwQlPLt28u9"
   },
   "source": [
    "\n",
    "\n",
    "### Comprobar dimensiones y balanceo del dataset (tras terminar limpieza del dataset)"
   ]
  },
  {
   "cell_type": "code",
   "execution_count": 21,
   "metadata": {},
   "outputs": [
    {
     "name": "stdout",
     "output_type": "stream",
     "text": [
      "<class 'pandas.core.frame.DataFrame'>\n",
      "Int64Index: 10678 entries, 0 to 2113\n",
      "Data columns (total 41 columns):\n",
      "index                     5521 non-null float64\n",
      "propertyCode              10678 non-null object\n",
      "thumbnail                 10678 non-null object\n",
      "externalReference         10678 non-null object\n",
      "numPhotos                 10678 non-null float64\n",
      "floor                     10678 non-null object\n",
      "price                     10678 non-null float64\n",
      "propertyType              10678 non-null object\n",
      "operation                 10678 non-null object\n",
      "size                      10678 non-null float64\n",
      "exterior                  10678 non-null bool\n",
      "rooms                     10678 non-null float64\n",
      "bathrooms                 10678 non-null float64\n",
      "address                   10678 non-null object\n",
      "province                  10678 non-null object\n",
      "municipality              10678 non-null object\n",
      "district                  10678 non-null object\n",
      "country                   10678 non-null object\n",
      "neighborhood              10678 non-null object\n",
      "latitude                  10610 non-null float64\n",
      "longitude                 10610 non-null float64\n",
      "showAddress               10678 non-null object\n",
      "url                       10678 non-null object\n",
      "distance                  10678 non-null int64\n",
      "description               10678 non-null object\n",
      "hasVideo                  10678 non-null bool\n",
      "status                    10678 non-null object\n",
      "newDevelopment            10678 non-null object\n",
      "hasLift                   10678 non-null object\n",
      "priceByArea               10678 non-null float64\n",
      "detailedType              10678 non-null object\n",
      "suggestedTexts            10678 non-null object\n",
      "hasPlan                   10678 non-null bool\n",
      "has3DTour                 10678 non-null object\n",
      "has360                    10678 non-null object\n",
      "hasStaging                10678 non-null object\n",
      "superTopHighlight         10678 non-null object\n",
      "topNewDevelopment         10678 non-null object\n",
      "labels                    10678 non-null object\n",
      "parkingSpace              10678 non-null object\n",
      "newDevelopmentFinished    10678 non-null object\n",
      "dtypes: bool(3), float64(9), int64(1), object(28)\n",
      "memory usage: 3.2+ MB\n"
     ]
    }
   ],
   "source": [
    "df.info()"
   ]
  },
  {
   "cell_type": "markdown",
   "metadata": {
    "colab_type": "text",
    "id": "pooiu4Pu28u_"
   },
   "source": [
    "\n",
    "\n",
    "## 3. Análisis Exploratorio de Datos (4 puntos)"
   ]
  },
  {
   "cell_type": "markdown",
   "metadata": {
    "colab_type": "text",
    "id": "YPGA8Uks28vA"
   },
   "source": [
    "\n",
    "\n",
    "### Estudio de las variables categóricas"
   ]
  },
  {
   "cell_type": "code",
   "execution_count": 22,
   "metadata": {},
   "outputs": [
    {
     "data": {
      "text/plain": [
       "<matplotlib.axes._subplots.AxesSubplot at 0x7fc751c3ba20>"
      ]
     },
     "execution_count": 22,
     "metadata": {},
     "output_type": "execute_result"
    },
    {
     "data": {
      "image/png": "[encoded data removed]",
      "text/plain": [
       "<Figure size 432x288 with 1 Axes>"
      ]
     },
     "metadata": {
      "needs_background": "light"
     },
     "output_type": "display_data"
    },
    {
     "data": {
      "image/png": "[encoded data removed]",
      "text/plain": [
       "<Figure size 432x288 with 1 Axes>"
      ]
     },
     "metadata": {
      "needs_background": "light"
     },
     "output_type": "display_data"
    },
    {
     "data": {
      "image/png": "[encoded data removed]",
      "text/plain": [
       "<Figure size 432x288 with 1 Axes>"
      ]
     },
     "metadata": {
      "needs_background": "light"
     },
     "output_type": "display_data"
    }
   ],
   "source": [
    "has360_province = pd.crosstab(index = df_categorical['province'], columns=df_categorical['has360'])\n",
    "has360_province.plot.bar()\n",
    "has360_has3dtour = pd.crosstab(index = df_categorical['has3DTour'], columns=df_categorical['has360'])\n",
    "has360_has3dtour.plot.bar()\n",
    "has360_floor = pd.crosstab(index = df_categorical['floor'], columns=df_categorical['has360'])\n",
    "has360_floor.plot.bar()"
   ]
  },
  {
   "cell_type": "markdown",
   "metadata": {
    "colab_type": "text",
    "id": "yAIba0QP28vB"
   },
   "source": [
    "\n",
    "\n",
    "### Convertir 3 variables categóricas a dummy. Se recomienda utilizar variables que no contengan demasiados posibles valores."
   ]
  },
  {
   "cell_type": "code",
   "execution_count": 25,
   "metadata": {},
   "outputs": [
    {
     "data": {
      "text/html": [
       "<div>\n",
       "<style scoped>\n",
       "    .dataframe tbody tr th:only-of-type {\n",
       "        vertical-align: middle;\n",
       "    }\n",
       "\n",
       "    .dataframe tbody tr th {\n",
       "        vertical-align: top;\n",
       "    }\n",
       "\n",
       "    .dataframe thead th {\n",
       "        text-align: right;\n",
       "    }\n",
       "</style>\n",
       "<table border=\"1\" class=\"dataframe\">\n",
       "  <thead>\n",
       "    <tr style=\"text-align: right;\">\n",
       "      <th></th>\n",
       "      <th>index</th>\n",
       "      <th>propertyCode</th>\n",
       "      <th>thumbnail</th>\n",
       "      <th>externalReference</th>\n",
       "      <th>numPhotos</th>\n",
       "      <th>floor</th>\n",
       "      <th>price</th>\n",
       "      <th>propertyType</th>\n",
       "      <th>operation</th>\n",
       "      <th>size</th>\n",
       "      <th>...</th>\n",
       "      <th>suggestedTexts</th>\n",
       "      <th>hasPlan</th>\n",
       "      <th>has3DTour</th>\n",
       "      <th>has360</th>\n",
       "      <th>hasStaging</th>\n",
       "      <th>superTopHighlight</th>\n",
       "      <th>topNewDevelopment</th>\n",
       "      <th>labels</th>\n",
       "      <th>parkingSpace</th>\n",
       "      <th>newDevelopmentFinished</th>\n",
       "    </tr>\n",
       "  </thead>\n",
       "  <tbody>\n",
       "    <tr>\n",
       "      <th>0</th>\n",
       "      <td>0.0</td>\n",
       "      <td>37423711</td>\n",
       "      <td>https://img3.idealista.com/blur/WEB_LISTING/0/id.pro.es.image.master/75/65/7d/1051146532.jpg</td>\n",
       "      <td>Z-2030</td>\n",
       "      <td>31.0</td>\n",
       "      <td>2</td>\n",
       "      <td>285000.0</td>\n",
       "      <td>flat</td>\n",
       "      <td>sale</td>\n",
       "      <td>63.0</td>\n",
       "      <td>...</td>\n",
       "      <td>{'subtitle': 'El Gòtic, Barcelona', 'title': 'Piso'}</td>\n",
       "      <td>True</td>\n",
       "      <td>False</td>\n",
       "      <td>False</td>\n",
       "      <td>False</td>\n",
       "      <td>False</td>\n",
       "      <td>False</td>\n",
       "      <td>nan</td>\n",
       "      <td>nan</td>\n",
       "      <td>nan</td>\n",
       "    </tr>\n",
       "    <tr>\n",
       "      <th>1</th>\n",
       "      <td>1.0</td>\n",
       "      <td>100030792</td>\n",
       "      <td>https://img3.idealista.com/blur/WEB_LISTING/0/id.pro.es.image.master/08/c0/ea/1065800123.jpg</td>\n",
       "      <td>2019</td>\n",
       "      <td>54.0</td>\n",
       "      <td>nan</td>\n",
       "      <td>178216.0</td>\n",
       "      <td>flat</td>\n",
       "      <td>sale</td>\n",
       "      <td>65.0</td>\n",
       "      <td>...</td>\n",
       "      <td>{'subtitle': 'El Guinardó, Barcelona', 'title': 'Piso en Calle del Xiprer'}</td>\n",
       "      <td>False</td>\n",
       "      <td>False</td>\n",
       "      <td>False</td>\n",
       "      <td>False</td>\n",
       "      <td>False</td>\n",
       "      <td>False</td>\n",
       "      <td>nan</td>\n",
       "      <td>nan</td>\n",
       "      <td>nan</td>\n",
       "    </tr>\n",
       "    <tr>\n",
       "      <th>2</th>\n",
       "      <td>2.0</td>\n",
       "      <td>95563945</td>\n",
       "      <td>https://img3.idealista.com/blur/WEB_LISTING/0/id.pro.es.image.master/cf/05/33/921983717.jpg</td>\n",
       "      <td>52931158</td>\n",
       "      <td>13.0</td>\n",
       "      <td>nan</td>\n",
       "      <td>333000.0</td>\n",
       "      <td>flat</td>\n",
       "      <td>sale</td>\n",
       "      <td>97.0</td>\n",
       "      <td>...</td>\n",
       "      <td>{'subtitle': 'El Gòtic, Barcelona', 'title': 'Piso en Calle dels Còdols'}</td>\n",
       "      <td>False</td>\n",
       "      <td>False</td>\n",
       "      <td>True</td>\n",
       "      <td>False</td>\n",
       "      <td>False</td>\n",
       "      <td>False</td>\n",
       "      <td>nan</td>\n",
       "      <td>nan</td>\n",
       "      <td>nan</td>\n",
       "    </tr>\n",
       "    <tr>\n",
       "      <th>4</th>\n",
       "      <td>4.0</td>\n",
       "      <td>95845899</td>\n",
       "      <td>https://img3.idealista.com/blur/WEB_LISTING/0/id.pro.es.image.master/17/29/61/930553000.jpg</td>\n",
       "      <td>52457390</td>\n",
       "      <td>10.0</td>\n",
       "      <td>nan</td>\n",
       "      <td>481000.0</td>\n",
       "      <td>flat</td>\n",
       "      <td>sale</td>\n",
       "      <td>72.0</td>\n",
       "      <td>...</td>\n",
       "      <td>{'subtitle': \"La Dreta de l'Eixample, Barcelona\", 'title': 'Piso en Rambla de Catalunya'}</td>\n",
       "      <td>False</td>\n",
       "      <td>False</td>\n",
       "      <td>True</td>\n",
       "      <td>False</td>\n",
       "      <td>False</td>\n",
       "      <td>False</td>\n",
       "      <td>nan</td>\n",
       "      <td>nan</td>\n",
       "      <td>nan</td>\n",
       "    </tr>\n",
       "    <tr>\n",
       "      <th>5</th>\n",
       "      <td>5.0</td>\n",
       "      <td>98225620</td>\n",
       "      <td>https://img3.idealista.com/blur/WEB_LISTING/0/id.pro.es.image.master/f1/1e/79/1004597535.jpg</td>\n",
       "      <td>LIM0000187135-AFFS1</td>\n",
       "      <td>17.0</td>\n",
       "      <td>5</td>\n",
       "      <td>291000.0</td>\n",
       "      <td>flat</td>\n",
       "      <td>sale</td>\n",
       "      <td>62.0</td>\n",
       "      <td>...</td>\n",
       "      <td>{'subtitle': \"La Nova Esquerra de l'Eixample, Barcelona\", 'title': 'Piso en Av. de Roma'}</td>\n",
       "      <td>False</td>\n",
       "      <td>True</td>\n",
       "      <td>False</td>\n",
       "      <td>False</td>\n",
       "      <td>False</td>\n",
       "      <td>False</td>\n",
       "      <td>nan</td>\n",
       "      <td>nan</td>\n",
       "      <td>nan</td>\n",
       "    </tr>\n",
       "  </tbody>\n",
       "</table>\n",
       "<p>5 rows × 41 columns</p>\n",
       "</div>"
      ],
      "text/plain": [
       "   index propertyCode  \\\n",
       "0  0.0    37423711      \n",
       "1  1.0    100030792     \n",
       "2  2.0    95563945      \n",
       "4  4.0    95845899      \n",
       "5  5.0    98225620      \n",
       "\n",
       "                                                                                      thumbnail  \\\n",
       "0  https://img3.idealista.com/blur/WEB_LISTING/0/id.pro.es.image.master/75/65/7d/1051146532.jpg   \n",
       "1  https://img3.idealista.com/blur/WEB_LISTING/0/id.pro.es.image.master/08/c0/ea/1065800123.jpg   \n",
       "2  https://img3.idealista.com/blur/WEB_LISTING/0/id.pro.es.image.master/cf/05/33/921983717.jpg    \n",
       "4  https://img3.idealista.com/blur/WEB_LISTING/0/id.pro.es.image.master/17/29/61/930553000.jpg    \n",
       "5  https://img3.idealista.com/blur/WEB_LISTING/0/id.pro.es.image.master/f1/1e/79/1004597535.jpg   \n",
       "\n",
       "     externalReference  numPhotos floor     price propertyType operation  \\\n",
       "0  Z-2030               31.0       2     285000.0  flat         sale       \n",
       "1  2019                 54.0       nan   178216.0  flat         sale       \n",
       "2  52931158             13.0       nan   333000.0  flat         sale       \n",
       "4  52457390             10.0       nan   481000.0  flat         sale       \n",
       "5  LIM0000187135-AFFS1  17.0       5     291000.0  flat         sale       \n",
       "\n",
       "   size  ...  \\\n",
       "0  63.0  ...   \n",
       "1  65.0  ...   \n",
       "2  97.0  ...   \n",
       "4  72.0  ...   \n",
       "5  62.0  ...   \n",
       "\n",
       "                                                                              suggestedTexts  \\\n",
       "0  {'subtitle': 'El Gòtic, Barcelona', 'title': 'Piso'}                                        \n",
       "1  {'subtitle': 'El Guinardó, Barcelona', 'title': 'Piso en Calle del Xiprer'}                 \n",
       "2  {'subtitle': 'El Gòtic, Barcelona', 'title': 'Piso en Calle dels Còdols'}                   \n",
       "4  {'subtitle': \"La Dreta de l'Eixample, Barcelona\", 'title': 'Piso en Rambla de Catalunya'}   \n",
       "5  {'subtitle': \"La Nova Esquerra de l'Eixample, Barcelona\", 'title': 'Piso en Av. de Roma'}   \n",
       "\n",
       "   hasPlan  has3DTour has360 hasStaging superTopHighlight topNewDevelopment  \\\n",
       "0  True     False      False  False      False             False              \n",
       "1  False    False      False  False      False             False              \n",
       "2  False    False      True   False      False             False              \n",
       "4  False    False      True   False      False             False              \n",
       "5  False    True       False  False      False             False              \n",
       "\n",
       "  labels parkingSpace  newDevelopmentFinished  \n",
       "0  nan    nan          nan                     \n",
       "1  nan    nan          nan                     \n",
       "2  nan    nan          nan                     \n",
       "4  nan    nan          nan                     \n",
       "5  nan    nan          nan                     \n",
       "\n",
       "[5 rows x 41 columns]"
      ]
     },
     "execution_count": 25,
     "metadata": {},
     "output_type": "execute_result"
    }
   ],
   "source": [
    "dummy_variables = [col for col in df_categorical.columns if col.startswith(\"hasPlan\" or \"has360\" or \"exterior\")]\n",
    "df_with_dummies = pd.get_dummies(df, columns=dummy_variables)\n",
    "df_with_dummies.head()"
   ]
  },
  {
   "cell_type": "markdown",
   "metadata": {
    "colab_type": "text",
    "id": "GnITGLOU28vD"
   },
   "source": [
    "\n",
    "\n",
    "### Crear variables derivadas en caso que nos parezca interesante incluir alguna"
   ]
  },
  {
   "cell_type": "code",
   "execution_count": 26,
   "metadata": {},
   "outputs": [
    {
     "data": {
      "text/html": [
       "<div>\n",
       "<style scoped>\n",
       "    .dataframe tbody tr th:only-of-type {\n",
       "        vertical-align: middle;\n",
       "    }\n",
       "\n",
       "    .dataframe tbody tr th {\n",
       "        vertical-align: top;\n",
       "    }\n",
       "\n",
       "    .dataframe thead th {\n",
       "        text-align: right;\n",
       "    }\n",
       "</style>\n",
       "<table border=\"1\" class=\"dataframe\">\n",
       "  <thead>\n",
       "    <tr style=\"text-align: right;\">\n",
       "      <th></th>\n",
       "      <th>index</th>\n",
       "      <th>propertyCode</th>\n",
       "      <th>thumbnail</th>\n",
       "      <th>externalReference</th>\n",
       "      <th>numPhotos</th>\n",
       "      <th>floor</th>\n",
       "      <th>price</th>\n",
       "      <th>propertyType</th>\n",
       "      <th>operation</th>\n",
       "      <th>size</th>\n",
       "      <th>...</th>\n",
       "      <th>hasPlan</th>\n",
       "      <th>has3DTour</th>\n",
       "      <th>has360</th>\n",
       "      <th>hasStaging</th>\n",
       "      <th>superTopHighlight</th>\n",
       "      <th>topNewDevelopment</th>\n",
       "      <th>labels</th>\n",
       "      <th>parkingSpace</th>\n",
       "      <th>newDevelopmentFinished</th>\n",
       "      <th>pricepermeters</th>\n",
       "    </tr>\n",
       "  </thead>\n",
       "  <tbody>\n",
       "    <tr>\n",
       "      <th>0</th>\n",
       "      <td>0.0</td>\n",
       "      <td>37423711</td>\n",
       "      <td>https://img3.idealista.com/blur/WEB_LISTING/0/id.pro.es.image.master/75/65/7d/1051146532.jpg</td>\n",
       "      <td>Z-2030</td>\n",
       "      <td>31.0</td>\n",
       "      <td>2</td>\n",
       "      <td>285000.0</td>\n",
       "      <td>flat</td>\n",
       "      <td>sale</td>\n",
       "      <td>63.0</td>\n",
       "      <td>...</td>\n",
       "      <td>True</td>\n",
       "      <td>False</td>\n",
       "      <td>False</td>\n",
       "      <td>False</td>\n",
       "      <td>False</td>\n",
       "      <td>False</td>\n",
       "      <td>nan</td>\n",
       "      <td>nan</td>\n",
       "      <td>nan</td>\n",
       "      <td>4523.809524</td>\n",
       "    </tr>\n",
       "    <tr>\n",
       "      <th>1</th>\n",
       "      <td>1.0</td>\n",
       "      <td>100030792</td>\n",
       "      <td>https://img3.idealista.com/blur/WEB_LISTING/0/id.pro.es.image.master/08/c0/ea/1065800123.jpg</td>\n",
       "      <td>2019</td>\n",
       "      <td>54.0</td>\n",
       "      <td>nan</td>\n",
       "      <td>178216.0</td>\n",
       "      <td>flat</td>\n",
       "      <td>sale</td>\n",
       "      <td>65.0</td>\n",
       "      <td>...</td>\n",
       "      <td>False</td>\n",
       "      <td>False</td>\n",
       "      <td>False</td>\n",
       "      <td>False</td>\n",
       "      <td>False</td>\n",
       "      <td>False</td>\n",
       "      <td>nan</td>\n",
       "      <td>nan</td>\n",
       "      <td>nan</td>\n",
       "      <td>2741.784615</td>\n",
       "    </tr>\n",
       "    <tr>\n",
       "      <th>2</th>\n",
       "      <td>2.0</td>\n",
       "      <td>95563945</td>\n",
       "      <td>https://img3.idealista.com/blur/WEB_LISTING/0/id.pro.es.image.master/cf/05/33/921983717.jpg</td>\n",
       "      <td>52931158</td>\n",
       "      <td>13.0</td>\n",
       "      <td>nan</td>\n",
       "      <td>333000.0</td>\n",
       "      <td>flat</td>\n",
       "      <td>sale</td>\n",
       "      <td>97.0</td>\n",
       "      <td>...</td>\n",
       "      <td>False</td>\n",
       "      <td>False</td>\n",
       "      <td>True</td>\n",
       "      <td>False</td>\n",
       "      <td>False</td>\n",
       "      <td>False</td>\n",
       "      <td>nan</td>\n",
       "      <td>nan</td>\n",
       "      <td>nan</td>\n",
       "      <td>3432.989691</td>\n",
       "    </tr>\n",
       "    <tr>\n",
       "      <th>4</th>\n",
       "      <td>4.0</td>\n",
       "      <td>95845899</td>\n",
       "      <td>https://img3.idealista.com/blur/WEB_LISTING/0/id.pro.es.image.master/17/29/61/930553000.jpg</td>\n",
       "      <td>52457390</td>\n",
       "      <td>10.0</td>\n",
       "      <td>nan</td>\n",
       "      <td>481000.0</td>\n",
       "      <td>flat</td>\n",
       "      <td>sale</td>\n",
       "      <td>72.0</td>\n",
       "      <td>...</td>\n",
       "      <td>False</td>\n",
       "      <td>False</td>\n",
       "      <td>True</td>\n",
       "      <td>False</td>\n",
       "      <td>False</td>\n",
       "      <td>False</td>\n",
       "      <td>nan</td>\n",
       "      <td>nan</td>\n",
       "      <td>nan</td>\n",
       "      <td>6680.555556</td>\n",
       "    </tr>\n",
       "    <tr>\n",
       "      <th>5</th>\n",
       "      <td>5.0</td>\n",
       "      <td>98225620</td>\n",
       "      <td>https://img3.idealista.com/blur/WEB_LISTING/0/id.pro.es.image.master/f1/1e/79/1004597535.jpg</td>\n",
       "      <td>LIM0000187135-AFFS1</td>\n",
       "      <td>17.0</td>\n",
       "      <td>5</td>\n",
       "      <td>291000.0</td>\n",
       "      <td>flat</td>\n",
       "      <td>sale</td>\n",
       "      <td>62.0</td>\n",
       "      <td>...</td>\n",
       "      <td>False</td>\n",
       "      <td>True</td>\n",
       "      <td>False</td>\n",
       "      <td>False</td>\n",
       "      <td>False</td>\n",
       "      <td>False</td>\n",
       "      <td>nan</td>\n",
       "      <td>nan</td>\n",
       "      <td>nan</td>\n",
       "      <td>4693.548387</td>\n",
       "    </tr>\n",
       "  </tbody>\n",
       "</table>\n",
       "<p>5 rows × 42 columns</p>\n",
       "</div>"
      ],
      "text/plain": [
       "   index propertyCode  \\\n",
       "0  0.0    37423711      \n",
       "1  1.0    100030792     \n",
       "2  2.0    95563945      \n",
       "4  4.0    95845899      \n",
       "5  5.0    98225620      \n",
       "\n",
       "                                                                                      thumbnail  \\\n",
       "0  https://img3.idealista.com/blur/WEB_LISTING/0/id.pro.es.image.master/75/65/7d/1051146532.jpg   \n",
       "1  https://img3.idealista.com/blur/WEB_LISTING/0/id.pro.es.image.master/08/c0/ea/1065800123.jpg   \n",
       "2  https://img3.idealista.com/blur/WEB_LISTING/0/id.pro.es.image.master/cf/05/33/921983717.jpg    \n",
       "4  https://img3.idealista.com/blur/WEB_LISTING/0/id.pro.es.image.master/17/29/61/930553000.jpg    \n",
       "5  https://img3.idealista.com/blur/WEB_LISTING/0/id.pro.es.image.master/f1/1e/79/1004597535.jpg   \n",
       "\n",
       "     externalReference  numPhotos floor     price propertyType operation  \\\n",
       "0  Z-2030               31.0       2     285000.0  flat         sale       \n",
       "1  2019                 54.0       nan   178216.0  flat         sale       \n",
       "2  52931158             13.0       nan   333000.0  flat         sale       \n",
       "4  52457390             10.0       nan   481000.0  flat         sale       \n",
       "5  LIM0000187135-AFFS1  17.0       5     291000.0  flat         sale       \n",
       "\n",
       "   size  ...  hasPlan  has3DTour  has360 hasStaging superTopHighlight  \\\n",
       "0  63.0  ...  True     False      False   False      False              \n",
       "1  65.0  ...  False    False      False   False      False              \n",
       "2  97.0  ...  False    False      True    False      False              \n",
       "4  72.0  ...  False    False      True    False      False              \n",
       "5  62.0  ...  False    True       False   False      False              \n",
       "\n",
       "  topNewDevelopment labels parkingSpace newDevelopmentFinished  pricepermeters  \n",
       "0  False             nan    nan          nan                    4523.809524     \n",
       "1  False             nan    nan          nan                    2741.784615     \n",
       "2  False             nan    nan          nan                    3432.989691     \n",
       "4  False             nan    nan          nan                    6680.555556     \n",
       "5  False             nan    nan          nan                    4693.548387     \n",
       "\n",
       "[5 rows x 42 columns]"
      ]
     },
     "execution_count": 26,
     "metadata": {},
     "output_type": "execute_result"
    }
   ],
   "source": [
    "df_with_dummies['pricepermeters']=df_with_dummies['price']/df_with_dummies['size']\n",
    "df_with_dummies.head()"
   ]
  },
  {
   "cell_type": "markdown",
   "metadata": {
    "colab_type": "text",
    "id": "rQod-mWJ28vE"
   },
   "source": [
    "\n",
    "\n",
    "### Cálculo de la matriz de correlación"
   ]
  },
  {
   "cell_type": "code",
   "execution_count": 27,
   "metadata": {},
   "outputs": [],
   "source": [
    "correlation_matrix = df_with_dummies.corr()\n",
    "correlation_matrix_abs=correlation_matrix.applymap(lambda x: abs(x))"
   ]
  },
  {
   "cell_type": "markdown",
   "metadata": {
    "colab_type": "text",
    "id": "_63PQuyr28vG"
   },
   "source": [
    "\n",
    "\n",
    "### Pintar la matriz de correlación"
   ]
  },
  {
   "cell_type": "code",
   "execution_count": 28,
   "metadata": {},
   "outputs": [],
   "source": [
    "correlation_matrix = df_with_dummies.corr()\n",
    "correlation_matrix_abs=correlation_matrix.applymap(lambda x: abs(x))"
   ]
  },
  {
   "cell_type": "markdown",
   "metadata": {
    "colab_type": "text",
    "id": "ZEaildvw28vH"
   },
   "source": [
    "\n",
    "\n",
    "### Comprobar si hay variables correlacionadas"
   ]
  },
  {
   "cell_type": "code",
   "execution_count": 29,
   "metadata": {},
   "outputs": [
    {
     "data": {
      "text/html": [
       "<div>\n",
       "<style scoped>\n",
       "    .dataframe tbody tr th:only-of-type {\n",
       "        vertical-align: middle;\n",
       "    }\n",
       "\n",
       "    .dataframe tbody tr th {\n",
       "        vertical-align: top;\n",
       "    }\n",
       "\n",
       "    .dataframe thead th {\n",
       "        text-align: right;\n",
       "    }\n",
       "</style>\n",
       "<table border=\"1\" class=\"dataframe\">\n",
       "  <thead>\n",
       "    <tr style=\"text-align: right;\">\n",
       "      <th></th>\n",
       "      <th>varX</th>\n",
       "      <th>varY</th>\n",
       "      <th>corr</th>\n",
       "    </tr>\n",
       "  </thead>\n",
       "  <tbody>\n",
       "    <tr>\n",
       "      <th>0</th>\n",
       "      <td>priceByArea</td>\n",
       "      <td>pricepermeters</td>\n",
       "      <td>1.0</td>\n",
       "    </tr>\n",
       "    <tr>\n",
       "      <th>1</th>\n",
       "      <td>pricepermeters</td>\n",
       "      <td>priceByArea</td>\n",
       "      <td>1.0</td>\n",
       "    </tr>\n",
       "  </tbody>\n",
       "</table>\n",
       "</div>"
      ],
      "text/plain": [
       "             varX            varY  corr\n",
       "0  priceByArea     pricepermeters  1.0 \n",
       "1  pricepermeters  priceByArea     1.0 "
      ]
     },
     "execution_count": 29,
     "metadata": {},
     "output_type": "execute_result"
    }
   ],
   "source": [
    "lista_corr=[]\n",
    "for fila in correlation_matrix_abs:\n",
    "    for columna in correlation_matrix_abs:  \n",
    "        if (correlation_matrix_abs.loc[fila,columna]>0.8) and (fila!=columna) and correlation_matrix_abs.loc[fila,columna]!=1:\n",
    "            lista_corr.append([fila,columna,correlation_matrix_abs.loc[fila,columna]])\n",
    "            \n",
    "df_corr=pd.DataFrame(lista_corr)\n",
    "\n",
    "df_corr.rename(columns={0:'varX',1:'varY',2:'corr'}).sort_values(by='corr',ascending=False)\n"
   ]
  },
  {
   "cell_type": "code",
   "execution_count": null,
   "metadata": {},
   "outputs": [],
   "source": []
  }
 ],
 "metadata": {
  "colab": {
   "name": "01_python_workshop_dspe_telco_churn.ipynb",
   "provenance": []
  },
  "kernelspec": {
   "display_name": "Python 3",
   "language": "python",
   "name": "python3"
  },
  "language_info": {
   "codemirror_mode": {
    "name": "ipython",
    "version": 3
   },
   "file_extension": ".py",
   "mimetype": "text/x-python",
   "name": "python",
   "nbconvert_exporter": "python",
   "pygments_lexer": "ipython3",
   "version": "3.5.2"
  }
 },
 "nbformat": 4,
 "nbformat_minor": 4
}
